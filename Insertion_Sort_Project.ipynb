{
  "nbformat": 4,
  "nbformat_minor": 0,
  "metadata": {
    "colab": {
      "provenance": []
    },
    "kernelspec": {
      "name": "python3",
      "display_name": "Python 3"
    },
    "language_info": {
      "name": "python"
    }
  },
  "cells": [
    {
      "cell_type": "code",
      "source": [
        "def insertion_sort(arr):\n",
        "    for i in range(1, len(arr)):\n",
        "        key = arr[i]\n",
        "        j = i - 1\n",
        "\n",
        "        # Move elements greater than key to one position ahead\n",
        "        while j >= 0 and arr[j] > key:\n",
        "            arr[j + 1] = arr[j]\n",
        "            j -= 1\n",
        "\n",
        "        arr[j + 1] = key\n",
        "\n",
        "        # Show the step clearly\n",
        "        print(\"Step\", i, \":\", arr)\n",
        "\n",
        "# Example usage\n",
        "array1 = [22, 27, 16, 2, 18, 6]\n",
        "insertion_sort(array1)\n"
      ],
      "metadata": {
        "colab": {
          "base_uri": "https://localhost:8080/"
        },
        "id": "-os1iKDf3Tr7",
        "outputId": "bcc1baf8-e85d-4b20-fa37-5f583894d505"
      },
      "execution_count": 3,
      "outputs": [
        {
          "output_type": "stream",
          "name": "stdout",
          "text": [
            "Step 1 : [22, 27, 16, 2, 18, 6]\n",
            "Step 2 : [16, 22, 27, 2, 18, 6]\n",
            "Step 3 : [2, 16, 22, 27, 18, 6]\n",
            "Step 4 : [2, 16, 18, 22, 27, 6]\n",
            "Step 5 : [2, 6, 16, 18, 22, 27]\n"
          ]
        }
      ]
    },
    {
      "cell_type": "markdown",
      "source": [
        "Insertion Sort Steps\n",
        "Given array:\n",
        "[22, 27, 16, 2, 18, 6]\n",
        "\n",
        "Insertion Sort works by scanning the array from left to right and inserting each element into its correct position in the already sorted left portion of the array.\n",
        "\n",
        "Step-by-step process:\n",
        "[22, 27, 16, 2, 18, 6] (Start – first element is considered sorted)\n",
        "\n",
        "[22, 27, 16, 2, 18, 6] (27 > 22 → stays in place)\n",
        "\n",
        "[16, 22, 27, 2, 18, 6] (16 < 27 and 22 → shifted left and inserted)\n",
        "\n",
        "[2, 16, 22, 27, 18, 6] (2 is smaller than all → placed at the beginning)\n",
        "\n",
        "[2, 16, 18, 22, 27, 6] (18 is less than 27 and 22 → inserted in between)\n",
        "\n",
        "[2, 6, 16, 18, 22, 27] (6 is smaller than 27, 22, 18, and 16 → placed in correct position)\n",
        "\n",
        "2. Big-O Notation\n",
        "Worst Case:\n",
        "When the array is sorted in reverse order, every new element needs to be compared with all the previous elements.\n",
        "\n",
        "➤ Big-O Complexity:\n",
        "O(n²)\n",
        "\n",
        "3. Time Complexity for the number 18\n",
        "After sorting, the array becomes:\n",
        "[2, 6, 16, 18, 22, 27]\n",
        "\n",
        "In this sorted array, the number 18 is in the middle.\n",
        "\n",
        "Answer is:\n",
        "Average Case\n",
        "\n",
        "Because in the average case, the element we are looking for is located somewhere in the middle of the array (not at the beginning or end).\n",
        "\n"
      ],
      "metadata": {
        "id": "E57mGs7xbog-"
      }
    },
    {
      "cell_type": "code",
      "source": [
        "def selection_sort(arr):\n",
        "    for i in range(len(arr) - 1):\n",
        "        min_index = i\n",
        "        for j in range(i + 1, len(arr)):\n",
        "            if arr[j] < arr[min_index]:\n",
        "                min_index = j\n",
        "\n",
        "        arr[i], arr[min_index] = arr[min_index], arr[i]\n",
        "\n",
        "        print(\"Step\", i + 1, \":\", arr)\n",
        "\n",
        "        if i == 3:  # Stop after 4 steps\n",
        "            break\n",
        "\n",
        "# Example usage\n",
        "array2 = [7, 3, 5, 8, 2, 9, 4, 15, 6]\n",
        "selection_sort(array2)\n"
      ],
      "metadata": {
        "colab": {
          "base_uri": "https://localhost:8080/"
        },
        "id": "_G_c2_K_cS1d",
        "outputId": "c53993f7-7263-4cb1-db37-7f3313bddf79"
      },
      "execution_count": 4,
      "outputs": [
        {
          "output_type": "stream",
          "name": "stdout",
          "text": [
            "Step 1 : [2, 3, 5, 8, 7, 9, 4, 15, 6]\n",
            "Step 2 : [2, 3, 5, 8, 7, 9, 4, 15, 6]\n",
            "Step 3 : [2, 3, 4, 8, 7, 9, 5, 15, 6]\n",
            "Step 4 : [2, 3, 4, 5, 7, 9, 8, 15, 6]\n"
          ]
        }
      ]
    },
    {
      "cell_type": "markdown",
      "source": [
        "Selection Sort Steps:\n",
        "Selection Sort works by finding the minimum element from the unsorted part of the array and swapping it with the first unsorted element.\n",
        "\n",
        "Initial array:\n",
        "[7, 3, 5, 8, 2, 9, 4, 15, 6]\n",
        "\n",
        "Step 1:\n",
        "Minimum value is 2\n",
        "\n",
        "Swap it with the element at index 0\n",
        "\n",
        "Result:\n",
        "[2, 3, 5, 8, 7, 9, 4, 15, 6]\n",
        "\n",
        "Step 2:\n",
        "Minimum value is 3\n",
        "\n",
        "It's already at index 1, so no change\n",
        "\n",
        "Result:\n",
        "[2, 3, 5, 8, 7, 9, 4, 15, 6]\n",
        "\n",
        "Step 3:\n",
        "Minimum value in the remaining part is 4 (at index 6)\n",
        "\n",
        "Swap it with the element at index 2\n",
        "\n",
        "Result:\n",
        "[2, 3, 4, 8, 7, 9, 5, 15, 6]\n",
        "\n",
        "Step 4:\n",
        "Minimum value in the remaining part is 5 (at index 6)\n",
        "\n",
        "Swap it with the element at index 3\n",
        "\n",
        "Result:\n",
        "[2, 3, 4, 5, 7, 9, 8, 15, 6]\n",
        "\n"
      ],
      "metadata": {
        "id": "XbzPl5hic1d0"
      }
    },
    {
      "cell_type": "code",
      "source": [],
      "metadata": {
        "id": "Q-5E88URd_X7"
      },
      "execution_count": null,
      "outputs": []
    }
  ]
}