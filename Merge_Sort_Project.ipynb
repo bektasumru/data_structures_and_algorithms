{
  "nbformat": 4,
  "nbformat_minor": 0,
  "metadata": {
    "colab": {
      "provenance": [],
      "authorship_tag": "ABX9TyONN6O40rkFeqocsmPNJ5Pn",
      "include_colab_link": true
    },
    "kernelspec": {
      "name": "python3",
      "display_name": "Python 3"
    },
    "language_info": {
      "name": "python"
    }
  },
  "cells": [
    {
      "cell_type": "markdown",
      "metadata": {
        "id": "view-in-github",
        "colab_type": "text"
      },
      "source": [
        "<a href=\"https://colab.research.google.com/github/bektasumru/data_structures_and_algorithms/blob/main/Merge_Sort_Project.ipynb\" target=\"_parent\"><img src=\"https://colab.research.google.com/assets/colab-badge.svg\" alt=\"Open In Colab\"/></a>"
      ]
    },
    {
      "cell_type": "markdown",
      "source": [
        "Merge Sort Steps for [16, 21, 11, 8, 12, 22]\n",
        "\n",
        "\n",
        "1. Divide the Array\n",
        "The array is split into halves repeatedly until we get single-element arrays:\n",
        "\n",
        "[16, 21, 11, 8, 12, 22]\n",
        "\n",
        "→ [16, 21, 11] and [8, 12, 22]\n",
        "\n",
        "→ [16], [21, 11] and [8], [12, 22]\n",
        "\n",
        "→ [16], [21], [11] and [8], [12], [22]\n",
        "\n",
        "\n",
        "2. Merge and Sort Step-by-Step\n",
        "Now we merge the individual elements in sorted order:\n",
        "\n",
        "Merge [21] and [11] → [11, 21]\n",
        "\n",
        "Merge [16] and [11, 21] → [11, 16, 21]\n",
        "\n",
        "On the right side:\n",
        "\n",
        "Merge [12] and [22] → [12, 22]\n",
        "\n",
        "Merge [8] and [12, 22] → [8, 12, 22]\n",
        "\n",
        "Finally:\n",
        "\n",
        "Merge [11, 16, 21] and [8, 12, 22] → [8, 11, 12, 16, 21, 22]\n",
        "\n",
        "3. Final Sorted Array:\n",
        "\n",
        "[8, 11, 12, 16, 21, 22]\n",
        "\n",
        "\n",
        "Time Complexity:\n",
        "\n",
        "Best case: O(n log n)\n",
        "\n",
        "Average case: O(n log n)\n",
        "\n",
        "Worst case: O(n log n)\n",
        "\n",
        "Merge Sort has a time complexity of O(n log n) in all cases\n",
        "\n",
        "\n"
      ],
      "metadata": {
        "id": "VsGbCAf6pq3w"
      }
    },
    {
      "cell_type": "code",
      "source": [
        "# Merge Sort algorithm\n",
        "def merge_sort(arr):\n",
        "    # Base case: if the list has 0 or 1 element, it's already sorted\n",
        "    if len(arr) <= 1:\n",
        "        return arr\n",
        "\n",
        "    # Split the list into two halves\n",
        "    mid = len(arr) // 2\n",
        "    left = arr[:mid]     # Left half\n",
        "    right = arr[mid:]    # Right half\n",
        "\n",
        "    # Recursively sort each half\n",
        "    sorted_left = merge_sort(left)\n",
        "    sorted_right = merge_sort(right)\n",
        "\n",
        "    # Merge the sorted halves\n",
        "    return merge(sorted_left, sorted_right)\n",
        "\n",
        "# Merge two sorted lists\n",
        "def merge(left, right):\n",
        "    result = []\n",
        "    i = j = 0\n",
        "\n",
        "    # Compare and merge elements one by one\n",
        "    while i < len(left) and j < len(right):\n",
        "        if left[i] < right[j]:\n",
        "            result.append(left[i])\n",
        "            i += 1\n",
        "        else:\n",
        "            result.append(right[j])\n",
        "            j += 1\n",
        "\n",
        "    # Add any remaining elements\n",
        "    result += left[i:]\n",
        "    result += right[j:]\n",
        "\n",
        "    # Show each merge step\n",
        "    print(f\"Merging: {left} + {right} => {result}\")\n",
        "    return result\n",
        "\n",
        "# Example usage\n",
        "arr = [16, 21, 11, 8, 12, 22]\n",
        "sorted_arr = merge_sort(arr)\n",
        "\n",
        "print(\"Final sorted array:\", sorted_arr)\n"
      ],
      "metadata": {
        "colab": {
          "base_uri": "https://localhost:8080/"
        },
        "id": "2nnKOI_Kqe3f",
        "outputId": "1661a907-16f0-40ea-e9f3-755737c3fa0b"
      },
      "execution_count": 1,
      "outputs": [
        {
          "output_type": "stream",
          "name": "stdout",
          "text": [
            "Merging: [21] + [11] => [11, 21]\n",
            "Merging: [16] + [11, 21] => [11, 16, 21]\n",
            "Merging: [12] + [22] => [12, 22]\n",
            "Merging: [8] + [12, 22] => [8, 12, 22]\n",
            "Merging: [11, 16, 21] + [8, 12, 22] => [8, 11, 12, 16, 21, 22]\n",
            "Final sorted array: [8, 11, 12, 16, 21, 22]\n"
          ]
        }
      ]
    }
  ]
}